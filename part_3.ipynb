{
  "nbformat": 4,
  "nbformat_minor": 0,
  "metadata": {
    "colab": {
      "provenance": []
    },
    "kernelspec": {
      "name": "python3",
      "display_name": "Python 3"
    },
    "language_info": {
      "name": "python"
    }
  },
  "cells": [
    {
      "cell_type": "code",
      "execution_count": 2,
      "metadata": {
        "colab": {
          "base_uri": "https://localhost:8080/"
        },
        "id": "pBxGV8rzgeCw",
        "outputId": "9fa9674b-e5e1-4c0a-9ff4-b2be21fad860"
      },
      "outputs": [
        {
          "output_type": "stream",
          "name": "stdout",
          "text": [
            "Validation Accuracy: 0.20051008926562147\n"
          ]
        },
        {
          "output_type": "stream",
          "name": "stderr",
          "text": [
            "/usr/local/lib/python3.10/dist-packages/sklearn/metrics/_classification.py:1531: UndefinedMetricWarning: Precision is ill-defined and being set to 0.0 in labels with no predicted samples. Use `zero_division` parameter to control this behavior.\n",
            "  _warn_prf(average, modifier, f\"{metric.capitalize()} is\", len(result))\n",
            "/usr/local/lib/python3.10/dist-packages/sklearn/metrics/_classification.py:1531: UndefinedMetricWarning: Precision is ill-defined and being set to 0.0 in labels with no predicted samples. Use `zero_division` parameter to control this behavior.\n",
            "  _warn_prf(average, modifier, f\"{metric.capitalize()} is\", len(result))\n",
            "/usr/local/lib/python3.10/dist-packages/sklearn/metrics/_classification.py:1531: UndefinedMetricWarning: Precision is ill-defined and being set to 0.0 in labels with no predicted samples. Use `zero_division` parameter to control this behavior.\n",
            "  _warn_prf(average, modifier, f\"{metric.capitalize()} is\", len(result))\n"
          ]
        },
        {
          "output_type": "stream",
          "name": "stdout",
          "text": [
            "                         precision    recall  f1-score   support\n",
            "\n",
            "                Baggage       0.00      0.00      0.00        21\n",
            "                Baggage       0.00      0.00      0.00       554\n",
            "              Baggage         0.00      0.00      0.00        29\n",
            "                Booking       0.00      0.00      0.00       497\n",
            "              Booking         0.00      0.00      0.00        16\n",
            "               Check In       0.00      0.00      0.00        76\n",
            "               Check-In       0.00      0.00      0.00       276\n",
            "             Check-In         0.00      0.00      0.00         7\n",
            "               Checkout       0.00      0.00      0.00       373\n",
            "             Checkout         0.00      0.00      0.00        11\n",
            "         Communications       0.00      0.00      0.00       746\n",
            "       Communications         0.00      0.00      0.00        11\n",
            "      Digital   Support       0.00      0.00      0.00        32\n",
            "       Digital  Support       0.00      0.00      0.00        19\n",
            "        Digital Support       0.00      0.00      0.00       202\n",
            "      Digital Support         0.00      0.00      0.00         2\n",
            "             Disability       0.00      0.00      0.00        84\n",
            "           Disability         0.00      0.00      0.00         2\n",
            "                    ETC       0.00      0.00      0.00       194\n",
            "                  ETC         0.00      0.00      0.00         3\n",
            "                 IRROPS       0.22      0.79      0.34      2714\n",
            "               IRROPS         0.00      0.00      0.00        49\n",
            "         Mileage   Plus       0.00      0.00      0.00        25\n",
            "          Mileage  Plus       0.00      0.00      0.00        21\n",
            "           Mileage Plus       0.12      0.01      0.02      1064\n",
            "         Mileage Plus         0.00      0.00      0.00        20\n",
            "          Other  Topics       0.00      0.00      0.00        48\n",
            "           Other Topics       0.00      0.00      0.00       123\n",
            "         Other Topics         0.00      0.00      0.00         3\n",
            "            Post Flight       0.00      0.00      0.00        75\n",
            "            Post-Flight       0.10      0.00      0.00       751\n",
            "          Post-Flight         0.00      0.00      0.00        22\n",
            "    Products & Services       0.00      0.00      0.00        86\n",
            "  Products and Services       0.00      0.00      0.00       560\n",
            "Products and Services         0.00      0.00      0.00        12\n",
            "        Schedule Change       0.00      0.00      0.00       144\n",
            "      Schedule Change         0.00      0.00      0.00         2\n",
            "                Seating       0.07      0.01      0.01      1206\n",
            "              Seating         0.00      0.00      0.00        29\n",
            "     Traveler   Updates       0.00      0.00      0.00        22\n",
            "      Traveler  Updates       0.00      0.00      0.00         7\n",
            "       Traveler Updates       0.00      0.00      0.00       159\n",
            "     Traveler Updates         0.00      0.00      0.00         2\n",
            "    Unaccompanied Minor       0.00      0.00      0.00        24\n",
            "                Upgrade       0.00      0.00      0.00       543\n",
            "              Upgrade         0.00      0.00      0.00        10\n",
            "     Voluntary   Change       0.00      0.00      0.00        37\n",
            "      Voluntary  Cancel       0.00      0.00      0.00        58\n",
            "      Voluntary  Change       0.00      0.00      0.00        26\n",
            "       Voluntary Cancel       0.00      0.00      0.00       271\n",
            "     Voluntary Cancel         0.00      0.00      0.00         5\n",
            "       Voluntary Change       0.15      0.25      0.19      2024\n",
            "     Voluntary Change         0.00      0.00      0.00        34\n",
            "\n",
            "               accuracy                           0.20     13331\n",
            "              macro avg       0.01      0.02      0.01     13331\n",
            "           weighted avg       0.09      0.20      0.10     13331\n",
            "\n"
          ]
        }
      ],
      "source": [
        "import pandas as pd\n",
        "import re\n",
        "from sklearn.feature_extraction.text import CountVectorizer\n",
        "from sklearn.model_selection import train_test_split\n",
        "from sklearn.ensemble import RandomForestClassifier\n",
        "from sklearn.metrics import accuracy_score, classification_report\n",
        "\n",
        "# Load datasets\n",
        "calls_df = pd.read_csv('calls.csv')  # Contains 'call_id', 'call_transcript'\n",
        "reasons_df = pd.read_csv('reasons.csv')  # Contains 'call_id', 'primary_call_reason'\n",
        "test_df = pd.read_csv('test.csv')  # Contains 'call_id' for which we need to predict reasons\n",
        "\n",
        "# Step 1: Clean the transcript text\n",
        "def clean_transcript(text):\n",
        "    # Remove comments enclosed in \"**\", punctuation and convert to lowercase\n",
        "    text = re.sub(r'\\*\\*.*?\\*\\*', '', text)\n",
        "    text = re.sub(r'[^\\w\\s]', '', text)\n",
        "    return text.lower()\n",
        "\n",
        "calls_df['cleaned_transcript'] = calls_df['call_transcript'].apply(clean_transcript)\n",
        "\n",
        "# Step 2: Merge calls.csv and reasons.csv to create a training dataset\n",
        "train_df = pd.merge(calls_df[['call_id', 'cleaned_transcript']], reasons_df, on='call_id')\n",
        "\n",
        "# Step 3: Prepare data for model\n",
        "X = train_df['cleaned_transcript']\n",
        "y = train_df['primary_call_reason']\n",
        "\n",
        "# Step 4: Split the training data for evaluation purposes\n",
        "X_train, X_val, y_train, y_val = train_test_split(X, y, test_size=0.2, random_state=42)\n",
        "\n",
        "# Step 5: Convert text into features using CountVectorizer\n",
        "vectorizer = CountVectorizer(max_features=5000)\n",
        "X_train_vec = vectorizer.fit_transform(X_train)\n",
        "X_val_vec = vectorizer.transform(X_val)\n",
        "\n",
        "# Step 6: Train a Random Forest Classifier\n",
        "clf = RandomForestClassifier(n_estimators=100, random_state=42)\n",
        "clf.fit(X_train_vec, y_train)\n",
        "\n",
        "# Step 7: Predict on validation set and calculate accuracy\n",
        "y_val_pred = clf.predict(X_val_vec)\n",
        "print(f'Validation Accuracy: {accuracy_score(y_val, y_val_pred)}')\n",
        "print(classification_report(y_val, y_val_pred))\n",
        "\n",
        "# Step 8: Predict on test.csv\n",
        "test_df = pd.merge(test_df, calls_df[['call_id', 'cleaned_transcript']], on='call_id', how='left')\n",
        "X_test = vectorizer.transform(test_df['cleaned_transcript'])\n",
        "test_df['predicted_reason'] = clf.predict(X_test)\n",
        "\n",
        "# Save predictions to a CSV file\n",
        "test_df[['call_id', 'predicted_reason']].to_csv('test_predictions.csv', index=False)\n",
        "\n"
      ]
    }
  ]
}