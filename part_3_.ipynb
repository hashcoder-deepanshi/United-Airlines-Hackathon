{
  "nbformat": 4,
  "nbformat_minor": 0,
  "metadata": {
    "colab": {
      "provenance": []
    },
    "kernelspec": {
      "name": "python3",
      "display_name": "Python 3"
    },
    "language_info": {
      "name": "python"
    }
  },
  "cells": [
    {
      "cell_type": "code",
      "execution_count": null,
      "metadata": {
        "id": "pBxGV8rzgeCw"
      },
      "outputs": [],
      "source": [
        "import pandas as pd\n",
        "import re\n",
        "from sklearn.feature_extraction.text import CountVectorizer\n",
        "from sklearn.model_selection import train_test_split\n",
        "from sklearn.ensemble import RandomForestClassifier\n",
        "from sklearn.metrics import accuracy_score, classification_report\n",
        "\n",
        "# Load datasets\n",
        "calls_df = pd.read_csv('calls.csv')  # Contains 'call_id', 'call_transcript'\n",
        "reasons_df = pd.read_csv('reasons.csv')  # Contains 'call_id', 'primary_call_reason'\n",
        "test_df = pd.read_csv('test.csv')  # Contains 'call_id' for which we need to predict reasons\n",
        "\n",
        "# Step 1: Clean the transcript text\n",
        "def clean_transcript(text):\n",
        "    # Remove comments enclosed in \"**\", punctuation and convert to lowercase\n",
        "    text = re.sub(r'\\*\\*.*?\\*\\*', '', text)\n",
        "    text = re.sub(r'[^\\w\\s]', '', text)\n",
        "    return text.lower()\n",
        "\n",
        "calls_df['cleaned_transcript'] = calls_df['call_transcript'].apply(clean_transcript)\n",
        "\n",
        "# Step 2: Merge calls.csv and reasons.csv to create a training dataset\n",
        "train_df = pd.merge(calls_df[['call_id', 'cleaned_transcript']], reasons_df, on='call_id')\n",
        "\n",
        "# Step 3: Prepare data for model\n",
        "X = train_df['cleaned_transcript']\n",
        "y = train_df['primary_call_reason']\n",
        "\n",
        "# Step 4: Split the training data for evaluation purposes\n",
        "X_train, X_val, y_train, y_val = train_test_split(X, y, test_size=0.2, random_state=42)\n",
        "\n",
        "# Step 5: Convert text into features using CountVectorizer\n",
        "vectorizer = CountVectorizer(max_features=5000)\n",
        "X_train_vec = vectorizer.fit_transform(X_train)\n",
        "X_val_vec = vectorizer.transform(X_val)\n",
        "\n",
        "# Step 6: Train a Random Forest Classifier\n",
        "clf = RandomForestClassifier(n_estimators=100, random_state=42)\n",
        "clf.fit(X_train_vec, y_train)\n",
        "\n",
        "# Step 7: Predict on validation set and calculate accuracy\n",
        "y_val_pred = clf.predict(X_val_vec)\n",
        "print(f'Validation Accuracy: {accuracy_score(y_val, y_val_pred)}')\n",
        "print(classification_report(y_val, y_val_pred))\n",
        "\n",
        "# Step 8: Predict on test.csv\n",
        "test_df = pd.merge(test_df, calls_df[['call_id', 'cleaned_transcript']], on='call_id', how='left')\n",
        "X_test = vectorizer.transform(test_df['cleaned_transcript'])\n",
        "test_df['predicted_reason'] = clf.predict(X_test)\n",
        "\n",
        "# Save predictions to a CSV file\n",
        "test_df[['call_id', 'predicted_reason']].to_csv('test_predictions.csv', index=False)\n",
        "\n",

      ]
    }
  ]
}
